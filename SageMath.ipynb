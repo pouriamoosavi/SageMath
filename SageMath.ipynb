{
 "cells": [
  {
   "cell_type": "markdown",
   "metadata": {
    "deletable": true,
    "editable": true
   },
   "source": [
    "# SageMath Assignment \n",
    "To get the full score of this assignment, you need to fully answer 12 questions from the following questions.\n",
    "\n",
    "If you answer just part of the questions, the score would be awarded to the amount of your effort.\n",
    "\n",
    "Some points:\n",
    "\n",
    "<ul>\n",
    "<li>The due date is Esfand 4th at 23:55.</li>\n",
    "<li>No submission is allowed after this time.</li>\n",
    "<li>You should submit a .ipnyb file named by your name like: \"hodamahmoudi.ipnyb\" </li>\n",
    "<li>Proper documentation is expected for each question. You should mention the question and its explanation before each computing cell. </li>\n",
    "</ul>\n",
    "\n",
    "<hr>\n",
    "\n",
    "## Questions\n",
    "\n",
    "#### Chapter 9: Relations\n",
    "\n",
    "Questions<i> 4, 5, 6, 7, 8, 9 </i>from <i>\"Computation and Exploration\" </i> section.\n"
   ]
  },
  {
   "cell_type": "code",
   "execution_count": null,
   "metadata": {
    "collapsed": true,
    "deletable": true,
    "editable": true
   },
   "outputs": [],
   "source": []
  },
  {
   "cell_type": "markdown",
   "metadata": {
    "deletable": true,
    "editable": true
   },
   "source": [
    "#### Chapter 10: Graphs\n",
    "\n",
    "Questions <i> 3, 4, 5, 7, 8, 9, 11, 13, 14 </i>from <i>\"Computation and Exploration\"</i> section.\n"
   ]
  },
  {
   "cell_type": "code",
   "execution_count": null,
   "metadata": {
    "collapsed": true,
    "deletable": true,
    "editable": true
   },
   "outputs": [],
   "source": []
  },
  {
   "cell_type": "markdown",
   "metadata": {
    "deletable": true,
    "editable": true
   },
   "source": [
    "#### Chapter 11: Trees\n",
    "\n",
    "Questions <i> 2, 4, 5, 7 </i>from <i>\"Computation and Exploration\" </i>section. "
   ]
  },
  {
   "cell_type": "code",
   "execution_count": null,
   "metadata": {
    "collapsed": true,
    "deletable": true,
    "editable": true
   },
   "outputs": [],
   "source": []
  },
  {
   "cell_type": "markdown",
   "metadata": {
    "deletable": true,
    "editable": true
   },
   "source": [
    "\n",
    "<b>Problem 1:</b>\n",
    "\n",
    "What is the probability of a random graph on 100 vertices to be connected? What about it having a coloring number equal to 2?\n"
   ]
  },
  {
   "cell_type": "code",
   "execution_count": null,
   "metadata": {
    "collapsed": true,
    "deletable": true,
    "editable": true
   },
   "outputs": [],
   "source": []
  },
  {
   "cell_type": "markdown",
   "metadata": {
    "deletable": true,
    "editable": true
   },
   "source": [
    "\n",
    "<b>Problem 2:</b>\n",
    "<p>What is the maximum size of a set of integers between 1 and 100 such that for any pair (a,b), the difference a-b is not a square ?</p>\n",
    "<p>This problem can be defined as a Graph problem : we create a vertex for each integer, and link two integers if their difference is a square. We but have to find a maximal independent set in this graph!</p>"
   ]
  },
  {
   "cell_type": "code",
   "execution_count": null,
   "metadata": {
    "collapsed": true,
    "deletable": true,
    "editable": true
   },
   "outputs": [],
   "source": []
  },
  {
   "cell_type": "markdown",
   "metadata": {
    "deletable": true,
    "editable": true
   },
   "source": [
    "<b>Problem 3:</b>\n",
    "<p>Plot a circle and its sorrounded polygon. Then fill their difference.</p>"
   ]
  },
  {
   "cell_type": "code",
   "execution_count": null,
   "metadata": {
    "collapsed": true,
    "deletable": true,
    "editable": true
   },
   "outputs": [],
   "source": []
  },
  {
   "cell_type": "markdown",
   "metadata": {
    "deletable": true,
    "editable": true
   },
   "source": [
    "<b>Problem 4:</b>\n",
    "<p>See <strong>Graph.traveling_salesman_problem</strong> and <strong>Graph.hamiltonian_cycle</strong> source codes and documentations and explain in one or two paragraph(s) how does <em>SageMath</em> deal with NP_Complete problem of \"Computing&nbsp;<span>Hamiltonian Cycle\"? What constraints are there?</span></p>\n",
    "<p>As you know, SageMath is an open source software, so you can access the source codes. You know one way to reach the source code, do you remember? If not refer back to \"Set 01\". :)</p>\n",
    "<p>Yet another good way is to go through the <strong>file address,</strong>&nbsp;above the documentation related to the same source code.</p>\n",
    "<p><span>Write the paragraph(s) here (in a markdown cell). Use another color (not black or red).</span></p>"
   ]
  },
  {
   "cell_type": "markdown",
   "metadata": {
    "deletable": true,
    "editable": true
   },
   "source": [
    "write answer here, using html code..."
   ]
  }
 ],
 "metadata": {
  "kernelspec": {
   "display_name": "SageMath 8.0",
   "language": "",
   "name": "sagemath"
  },
  "language_info": {
   "codemirror_mode": {
    "name": "ipython",
    "version": 2
   },
   "file_extension": ".py",
   "mimetype": "text/x-python",
   "name": "python",
   "nbconvert_exporter": "python",
   "pygments_lexer": "ipython2",
   "version": "2.7.13"
  }
 },
 "nbformat": 4,
 "nbformat_minor": 2
}
